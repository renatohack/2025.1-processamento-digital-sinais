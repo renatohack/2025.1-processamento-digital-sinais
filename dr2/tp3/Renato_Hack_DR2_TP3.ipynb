{
 "cells": [
  {
   "cell_type": "markdown",
   "id": "9c973730-5b65-4556-9cc2-95bdeceff29f",
   "metadata": {},
   "source": [
    "# Questão 1"
   ]
  },
  {
   "cell_type": "markdown",
   "id": "a7fe15fe-17ac-4c9d-bf15-4b08535f5de9",
   "metadata": {},
   "source": [
    "Esse sistema é um amplificador ganho 4, multiplicando a entrada sem distorção ou alteração de frequências."
   ]
  },
  {
   "cell_type": "code",
   "execution_count": 1,
   "id": "c2569bfc-bfab-4b89-a835-0cfadaef0bc2",
   "metadata": {},
   "outputs": [
    {
     "name": "stdout",
     "output_type": "stream",
     "text": [
      "Resposta: [ 4  8 12  8  4]\n"
     ]
    }
   ],
   "source": [
    "import numpy as np\n",
    "\n",
    "X = np.array([1, 2, 3, 2, 1])\n",
    "h = np.array([4])\n",
    "\n",
    "Y = np.convolve(X, h, mode='full')\n",
    "\n",
    "print(\"Resposta:\", Y)"
   ]
  },
  {
   "cell_type": "code",
   "execution_count": null,
   "id": "06a5c071-eafc-4bc7-b566-995796ddad64",
   "metadata": {},
   "outputs": [],
   "source": []
  }
 ],
 "metadata": {
  "kernelspec": {
   "display_name": "Python 3 (ipykernel)",
   "language": "python",
   "name": "python3"
  },
  "language_info": {
   "codemirror_mode": {
    "name": "ipython",
    "version": 3
   },
   "file_extension": ".py",
   "mimetype": "text/x-python",
   "name": "python",
   "nbconvert_exporter": "python",
   "pygments_lexer": "ipython3",
   "version": "3.11.9"
  }
 },
 "nbformat": 4,
 "nbformat_minor": 5
}
